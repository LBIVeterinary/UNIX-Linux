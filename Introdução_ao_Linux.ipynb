{
  "nbformat": 4,
  "nbformat_minor": 0,
  "metadata": {
    "colab": {
      "provenance": []
    },
    "kernelspec": {
      "name": "python3",
      "display_name": "Python 3"
    },
    "language_info": {
      "name": "python"
    }
  },
  "cells": [
    {
      "cell_type": "markdown",
      "source": [
        "# Parte I - Introdução ao BASH\n",
        "\n",
        "Por padrão, BASH é uma extensão do antigo SHELL. Sendo uma excelente forma de comunicação entre o usuário e o computador. Para isso, o cerne do computador utiliza uma série de comandos denominadas funções. Algumas delas são echo, cat, head, tail, cp, mv, man e rm.\n",
        "\n",
        "BASH é especialmente utilizado para lidar com **arquivos e diretórios**. A seguir utilizaremos algumas funções para entender melhor o funcionamento do Linux.\n",
        "\n",
        "## Criando arquivos e diretórios\n",
        "\n",
        "Um arquivo pode conter diferentes informações. Em geral, o tipo de informação que um arquivo carrega é determinada por sua extensão.\n",
        "\n",
        "Arquivos de texto carregam a extensão .txt, e contém informação textual (caracteres alfanuméricos).\n",
        "\n",
        "Diretórios, por sua vez, são pastas. Por definição, são containers virtuais que armazenam arquivos ou outros diretórios."
      ],
      "metadata": {
        "id": "jheJzkTPn1vV"
      }
    },
    {
      "cell_type": "code",
      "source": [
        "#Exemplo\n",
        "!echo \"Introdução ao Linux\""
      ],
      "metadata": {
        "colab": {
          "base_uri": "https://localhost:8080/"
        },
        "id": "4J6e7PqooXUg",
        "outputId": "0764ced0-b92e-448e-da25-0da965415332"
      },
      "execution_count": 18,
      "outputs": [
        {
          "output_type": "stream",
          "name": "stdout",
          "text": [
            "Introdução ao Linux\n"
          ]
        }
      ]
    },
    {
      "cell_type": "code",
      "source": [
        "#Criando um arquivo\n",
        "!echo \"Introdução ao Linux\" > arquivo.txt"
      ],
      "metadata": {
        "id": "K6XRny-wq1Vg"
      },
      "execution_count": 41,
      "outputs": []
    },
    {
      "cell_type": "markdown",
      "source": [
        "Na dúvida de como um comando funciona, é sempre recomendada a visualização do manual de funções embutido em todas as funções BASH."
      ],
      "metadata": {
        "id": "mm--XbxfrrhA"
      }
    },
    {
      "cell_type": "code",
      "source": [
        "#Importante para a liberação das funções de apoio\n",
        "!unminimize"
      ],
      "metadata": {
        "colab": {
          "base_uri": "https://localhost:8080/"
        },
        "id": "MS5354yjs1jl",
        "outputId": "9f2dec90-8cc5-400b-c395-f09a9bea5ef6"
      },
      "execution_count": 17,
      "outputs": [
        {
          "output_type": "stream",
          "name": "stdout",
          "text": [
            "This system has been minimized by removing packages and content that are\n",
            "not required on a system that users do not log into.\n",
            "\n",
            "This script restores content and packages that are found on a default\n",
            "Ubuntu server system in order to make this system more suitable for\n",
            "interactive use.\n",
            "\n",
            "Reinstallation of packages may fail due to changes to the system\n",
            "configuration, the presence of third-party packages, or for other\n",
            "reasons.\n",
            "\n",
            "This operation may take some time.\n",
            "\n",
            "Would you like to continue? [y/N] y\n",
            "\n"
          ]
        }
      ]
    },
    {
      "cell_type": "code",
      "source": [
        "!man echo"
      ],
      "metadata": {
        "id": "Q-O6PPTdq7i-"
      },
      "execution_count": null,
      "outputs": []
    },
    {
      "cell_type": "code",
      "source": [
        "#Criando um diretório\n",
        "!mkdir pasta1"
      ],
      "metadata": {
        "id": "-sf0etcc0ZLP"
      },
      "execution_count": 21,
      "outputs": []
    },
    {
      "cell_type": "markdown",
      "source": [
        "Na maioria dos casos é inviável ter uma visualização gráfica de todos os processos que ocorrem no kernel do Linux. Para uma verificação constante dos passos, é necessário sempre verificar a situação dos diretórios."
      ],
      "metadata": {
        "id": "cDl5_-p-013p"
      }
    },
    {
      "cell_type": "code",
      "source": [
        "#Verificando o diretório atual\n",
        "!ls"
      ],
      "metadata": {
        "colab": {
          "base_uri": "https://localhost:8080/"
        },
        "id": "L0sSdkJI1HqM",
        "outputId": "994eaea5-40b0-429a-89ff-48e8823a8c04"
      },
      "execution_count": 22,
      "outputs": [
        {
          "output_type": "stream",
          "name": "stdout",
          "text": [
            "arquivo.txt  pasta1  sample_data  UNIX-Linux\n"
          ]
        }
      ]
    },
    {
      "cell_type": "code",
      "source": [
        "#Verificando o diretório novo\n",
        "!ls pasta1"
      ],
      "metadata": {
        "id": "uJrwwRYz1VDD"
      },
      "execution_count": 29,
      "outputs": []
    },
    {
      "cell_type": "markdown",
      "source": [
        "## Edição de arquivos\n",
        "\n",
        "A edição de arquivos por meio do terminal UNIX deve ser cautelosa. O motivo disso é que as alterações feitas são por via de regra **irreversíveis**."
      ],
      "metadata": {
        "id": "k6qwfKi71cMP"
      }
    },
    {
      "cell_type": "code",
      "source": [
        "!ls"
      ],
      "metadata": {
        "id": "x662agGF3_db"
      },
      "execution_count": null,
      "outputs": []
    },
    {
      "cell_type": "code",
      "source": [
        "#Renomeando arquivos e diretórios\n",
        "!mv pasta1 backup"
      ],
      "metadata": {
        "id": "U3AZX0CD3xMx"
      },
      "execution_count": 30,
      "outputs": []
    },
    {
      "cell_type": "code",
      "source": [
        "!ls"
      ],
      "metadata": {
        "id": "51nL3d2I392U"
      },
      "execution_count": null,
      "outputs": []
    },
    {
      "cell_type": "code",
      "source": [
        "!ls backup/"
      ],
      "metadata": {
        "id": "0qdgFVh44qB3"
      },
      "execution_count": null,
      "outputs": []
    },
    {
      "cell_type": "code",
      "source": [
        "#Adicionando informação a um arquivo\n",
        "!echo Arquivo de \"***\" >> arquivo.txt"
      ],
      "metadata": {
        "id": "Tdh6K2KN44F3"
      },
      "execution_count": 43,
      "outputs": []
    },
    {
      "cell_type": "code",
      "source": [
        "#Visualizando um arquivo\n",
        "!cat arquivo.txt"
      ],
      "metadata": {
        "id": "sKhZ_yMv5KLD"
      },
      "execution_count": null,
      "outputs": []
    },
    {
      "cell_type": "code",
      "source": [
        "#Acabando com a informação a um arquivo\n",
        "!echo Arquivo de \"***\" > arquivo.txt"
      ],
      "metadata": {
        "id": "A1K9z64j6Jzd"
      },
      "execution_count": 47,
      "outputs": []
    },
    {
      "cell_type": "code",
      "source": [
        "!cat arquivo.txt"
      ],
      "metadata": {
        "id": "ojZiYALP6PNt"
      },
      "execution_count": null,
      "outputs": []
    },
    {
      "cell_type": "code",
      "source": [
        "#Excluindo um arquivo\n",
        "!rm arquivo.txt"
      ],
      "metadata": {
        "id": "whhjmcD55fAO"
      },
      "execution_count": 49,
      "outputs": []
    },
    {
      "cell_type": "code",
      "source": [
        "!ls"
      ],
      "metadata": {
        "colab": {
          "base_uri": "https://localhost:8080/"
        },
        "id": "jybYaA9155eu",
        "outputId": "f26164ac-b830-4ae2-9a5e-b79439df4feb"
      },
      "execution_count": 50,
      "outputs": [
        {
          "output_type": "stream",
          "name": "stdout",
          "text": [
            "backup\tsample_data  UNIX-Linux\n"
          ]
        }
      ]
    },
    {
      "cell_type": "code",
      "source": [
        "#Copiando o arquivo de backup\n",
        "!cp backup/backup_24-01-2023.txt arquivo.txt"
      ],
      "metadata": {
        "id": "mQbTw23659Wm"
      },
      "execution_count": 53,
      "outputs": []
    },
    {
      "cell_type": "code",
      "source": [
        "ls"
      ],
      "metadata": {
        "id": "dPsQrxyE6mz7"
      },
      "execution_count": null,
      "outputs": []
    },
    {
      "cell_type": "markdown",
      "source": [
        "##Entendendo caminhos\n",
        "\n",
        "Um caminho é o endereço eletronico de um arquivo ou pasta no computador."
      ],
      "metadata": {
        "id": "6UDDpIhD6wzB"
      }
    },
    {
      "cell_type": "code",
      "source": [
        "#GitHub é um grande repositório de programas\n",
        "!git clone https://github.com/LBIVeterinary/UNIX-Linux.git"
      ],
      "metadata": {
        "id": "0cWCQGqSzjvV"
      },
      "execution_count": null,
      "outputs": []
    },
    {
      "cell_type": "code",
      "source": [
        "!ls -la"
      ],
      "metadata": {
        "id": "Jp17TkOy7dao"
      },
      "execution_count": null,
      "outputs": []
    },
    {
      "cell_type": "code",
      "source": [
        "#Retorna o caminho absoluto do diretório atual\n",
        "!pwd"
      ],
      "metadata": {
        "id": "5ZmbotGx8BJy"
      },
      "execution_count": null,
      "outputs": []
    },
    {
      "cell_type": "code",
      "source": [
        "%cd UNIX-Linux/Linux/Genes/\n",
        "!pwd\n",
        "!ls"
      ],
      "metadata": {
        "id": "Y5UQtCUT8Od4"
      },
      "execution_count": null,
      "outputs": []
    },
    {
      "cell_type": "code",
      "source": [
        "#Mostra as primeiras linhas de um arquivo\n",
        "!head -5 Proteina1.fasta"
      ],
      "metadata": {
        "id": "0PZnUql38pX8"
      },
      "execution_count": null,
      "outputs": []
    },
    {
      "cell_type": "code",
      "source": [
        "#Mostra todo o arquivo\n",
        "!cat Proteina1.fasta"
      ],
      "metadata": {
        "id": "9sfYFQoa-Ka-"
      },
      "execution_count": null,
      "outputs": []
    },
    {
      "cell_type": "code",
      "source": [
        "!cat Nucleotídeos.txt"
      ],
      "metadata": {
        "id": "jDFOu3TI-ZjU"
      },
      "execution_count": null,
      "outputs": []
    },
    {
      "cell_type": "code",
      "source": [
        "#Busca por padrões textuais\n",
        "!grep \">\" Nucleotídeos.txt"
      ],
      "metadata": {
        "id": "fdFwbBkk_LE6"
      },
      "execution_count": null,
      "outputs": []
    },
    {
      "cell_type": "code",
      "source": [
        "!grep -c \">\" Nucleotídeos.txt"
      ],
      "metadata": {
        "id": "noyko3Xj_-j4"
      },
      "execution_count": null,
      "outputs": []
    },
    {
      "cell_type": "code",
      "source": [
        "!grep -c \"S\" *.fasta"
      ],
      "metadata": {
        "id": "U6ImYBcJAX_c"
      },
      "execution_count": null,
      "outputs": []
    },
    {
      "cell_type": "code",
      "source": [
        "!tail +2 Proteina1.fasta | grep -c \"S\""
      ],
      "metadata": {
        "id": "tryzsuHyBMPj"
      },
      "execution_count": null,
      "outputs": []
    }
  ]
}